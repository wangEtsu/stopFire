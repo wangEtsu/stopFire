{
 "cells": [
  {
   "cell_type": "markdown",
   "metadata": {},
   "source": [
    "# Producer 3: Feed Hotspot data from satellite TERRA"
   ]
  },
  {
   "cell_type": "code",
   "execution_count": null,
   "metadata": {},
   "outputs": [
    {
     "name": "stdout",
     "output_type": "stream",
     "text": [
      "Publishing records..\n",
      "Message published successfully. Data: {'sender_id': 'producer_3', 'longitude': 148.07299999999998, 'confidence': 63.0, 'created_time': '21:35:44', 'latitude': -37.554, 'surface_temperature_celcius': 37.0}\n",
      "Message published successfully. Data: {'sender_id': 'producer_3', 'longitude': 144.5934, 'confidence': 70.0, 'created_time': '21:36:02', 'latitude': -36.5223, 'surface_temperature_celcius': 45.0}\n",
      "Message published successfully. Data: {'sender_id': 'producer_3', 'longitude': 146.4774, 'confidence': 64.0, 'created_time': '21:36:23', 'latitude': -36.0047, 'surface_temperature_celcius': 42.0}\n",
      "Message published successfully. Data: {'sender_id': 'producer_3', 'longitude': 143.1764, 'confidence': 74.0, 'created_time': '21:36:39', 'latitude': -37.7905, 'surface_temperature_celcius': 47.0}\n",
      "Message published successfully. Data: {'sender_id': 'producer_3', 'longitude': 142.2606, 'confidence': 77.0, 'created_time': '21:37:06', 'latitude': -36.4811, 'surface_temperature_celcius': 50.0}\n",
      "Message published successfully. Data: {'sender_id': 'producer_3', 'longitude': 141.5296, 'confidence': 72.0, 'created_time': '21:37:20', 'latitude': -38.0308, 'surface_temperature_celcius': 46.0}\n",
      "Message published successfully. Data: {'sender_id': 'producer_3', 'longitude': 147.2118, 'confidence': 100.0, 'created_time': '21:37:46', 'latitude': -37.8339, 'surface_temperature_celcius': 113.0}\n",
      "Message published successfully. Data: {'sender_id': 'producer_3', 'longitude': 142.2323, 'confidence': 88.0, 'created_time': '21:38:06', 'latitude': -36.4573, 'surface_temperature_celcius': 63.0}\n",
      "Message published successfully. Data: {'sender_id': 'producer_3', 'longitude': 142.204, 'confidence': 84.0, 'created_time': '21:38:29', 'latitude': -34.2838, 'surface_temperature_celcius': 58.0}\n",
      "Message published successfully. Data: {'sender_id': 'producer_3', 'longitude': 148.099, 'confidence': 94.0, 'created_time': '21:38:56', 'latitude': -37.333, 'surface_temperature_celcius': 43.0}\n",
      "Message published successfully. Data: {'sender_id': 'producer_3', 'longitude': 140.9935, 'confidence': 100.0, 'created_time': '21:39:07', 'latitude': -36.4035, 'surface_temperature_celcius': 95.0}\n",
      "Message published successfully. Data: {'sender_id': 'producer_3', 'longitude': 144.1375, 'confidence': 81.0, 'created_time': '21:39:34', 'latitude': -37.1405, 'surface_temperature_celcius': 54.0}\n",
      "Message published successfully. Data: {'sender_id': 'producer_3', 'longitude': 141.6209, 'confidence': 77.0, 'created_time': '21:39:52', 'latitude': -34.8006, 'surface_temperature_celcius': 50.0}\n",
      "Message published successfully. Data: {'sender_id': 'producer_3', 'longitude': 148.9436, 'confidence': 75.0, 'created_time': '21:40:12', 'latitude': -37.166, 'surface_temperature_celcius': 49.0}\n",
      "Message published successfully. Data: {'sender_id': 'producer_3', 'longitude': 144.5115, 'confidence': 76.0, 'created_time': '21:40:32', 'latitude': -36.3371, 'surface_temperature_celcius': 49.0}\n"
     ]
    }
   ],
   "source": [
    "# import statements\n",
    "from time import sleep\n",
    "from json import dumps\n",
    "from kafka import KafkaProducer\n",
    "import random\n",
    "import datetime as dt\n",
    "import pandas as pd\n",
    "\n",
    "# method for publishing data\n",
    "def publish_message(producer_instance, topic_name, data):\n",
    "    try:\n",
    "        producer_instance.send(topic_name, value=data)\n",
    "        print('Message published successfully. Data: ' + str(data))\n",
    "    except Exception as ex:\n",
    "        print('Exception in publishing message.')\n",
    "        print(str(ex))\n",
    "\n",
    "# method for creating kafka connection\n",
    "def connect_kafka_producer():\n",
    "    _producer = None\n",
    "    try:\n",
    "        _producer = KafkaProducer(bootstrap_servers=['localhost:9092'],\n",
    "                                  value_serializer=lambda x: dumps(x).encode('ascii'),\n",
    "                                  api_version=(0, 10))\n",
    "    except Exception as ex:\n",
    "        print('Exception while connecting Kafka.')\n",
    "        print(str(ex))\n",
    "    finally:\n",
    "        return _producer\n",
    "    \n",
    "if __name__ == '__main__':\n",
    "    # read csv file\n",
    "    aqua_terra_streaming = pd.read_csv('hotspot_TERRA_streaming.csv')\n",
    "    # setup up topic    \n",
    "    topic = 'StopFire'\n",
    "    print('Publishing records..')\n",
    "    producer = connect_kafka_producer()\n",
    "    while True:\n",
    "        # set up a random feed interval between 10-30s and sender_id\n",
    "        random_time = random.randrange(10,30)\n",
    "        created_time = str(dt.datetime.now().strftime(\"%X\"))\n",
    "        sender_id = 'producer_3'\n",
    "        \n",
    "        # append timestamp and sender_id to the randomlty selected records\n",
    "        dict_hotspot = aqua_terra_streaming.sample(1).to_dict('records')[0]\n",
    "        dict_hotspot.update({'created_time': created_time, 'sender_id': sender_id}) \n",
    "        publish_message(producer, topic, dict_hotspot)\n",
    "        \n",
    "        # feed the data to stream based on the random interval\n",
    "        sleep(random_time)"
   ]
  },
  {
   "cell_type": "code",
   "execution_count": null,
   "metadata": {},
   "outputs": [],
   "source": []
  },
  {
   "cell_type": "code",
   "execution_count": null,
   "metadata": {},
   "outputs": [],
   "source": []
  }
 ],
 "metadata": {
  "kernelspec": {
   "display_name": "Python 3",
   "language": "python",
   "name": "python3"
  },
  "language_info": {
   "codemirror_mode": {
    "name": "ipython",
    "version": 3
   },
   "file_extension": ".py",
   "mimetype": "text/x-python",
   "name": "python",
   "nbconvert_exporter": "python",
   "pygments_lexer": "ipython3",
   "version": "3.5.2"
  }
 },
 "nbformat": 4,
 "nbformat_minor": 2
}
