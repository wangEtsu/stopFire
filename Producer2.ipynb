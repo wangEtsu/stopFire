{
 "cells": [
  {
   "cell_type": "markdown",
   "metadata": {},
   "source": [
    "# Producer 2: Feed Hotspot data from satellite AQUA"
   ]
  },
  {
   "cell_type": "code",
   "execution_count": null,
   "metadata": {},
   "outputs": [
    {
     "name": "stdout",
     "output_type": "stream",
     "text": [
      "Publishing records..\n",
      "Message published successfully. Data: {'confidence': 60.0, 'surface_temperature_celcius': 44.0, 'longitude': 143.6244, 'latitude': -37.4385, 'sender_id': 'producer_2', 'created_time': '21:35:40'}\n",
      "Message published successfully. Data: {'confidence': 100.0, 'surface_temperature_celcius': 71.0, 'longitude': 146.157, 'latitude': -36.282, 'sender_id': 'producer_2', 'created_time': '21:36:01'}\n",
      "Message published successfully. Data: {'confidence': 84.0, 'surface_temperature_celcius': 59.0, 'longitude': 149.336, 'latitude': -37.384, 'sender_id': 'producer_2', 'created_time': '21:36:29'}\n",
      "Message published successfully. Data: {'confidence': 96.0, 'surface_temperature_celcius': 78.0, 'longitude': 145.0922, 'latitude': -36.1898, 'sender_id': 'producer_2', 'created_time': '21:36:49'}\n",
      "Message published successfully. Data: {'confidence': 76.0, 'surface_temperature_celcius': 49.0, 'longitude': 145.8702, 'latitude': -37.8025, 'sender_id': 'producer_2', 'created_time': '21:37:10'}\n",
      "Message published successfully. Data: {'confidence': 91.0, 'surface_temperature_celcius': 68.0, 'longitude': 143.5801, 'latitude': -36.7651, 'sender_id': 'producer_2', 'created_time': '21:37:25'}\n",
      "Message published successfully. Data: {'confidence': 81.0, 'surface_temperature_celcius': 54.0, 'longitude': 142.73, 'latitude': -36.8189, 'sender_id': 'producer_2', 'created_time': '21:37:37'}\n",
      "Message published successfully. Data: {'confidence': 87.0, 'surface_temperature_celcius': 62.0, 'longitude': 144.1879, 'latitude': -36.5493, 'sender_id': 'producer_2', 'created_time': '21:38:03'}\n",
      "Message published successfully. Data: {'confidence': 60.0, 'surface_temperature_celcius': 40.0, 'longitude': 146.5728, 'latitude': -36.0787, 'sender_id': 'producer_2', 'created_time': '21:38:16'}\n",
      "Message published successfully. Data: {'confidence': 60.0, 'surface_temperature_celcius': 40.0, 'longitude': 146.5728, 'latitude': -36.0787, 'sender_id': 'producer_2', 'created_time': '21:38:34'}\n",
      "Message published successfully. Data: {'confidence': 82.0, 'surface_temperature_celcius': 56.0, 'longitude': 143.7732, 'latitude': -36.4956, 'sender_id': 'producer_2', 'created_time': '21:38:44'}\n",
      "Message published successfully. Data: {'confidence': 85.0, 'surface_temperature_celcius': 59.0, 'longitude': 142.9447, 'latitude': -37.6261, 'sender_id': 'producer_2', 'created_time': '21:38:59'}\n"
     ]
    }
   ],
   "source": [
    "# import statements\n",
    "from time import sleep\n",
    "from json import dumps\n",
    "from kafka import KafkaProducer\n",
    "import random\n",
    "import datetime as dt\n",
    "import pandas as pd\n",
    "\n",
    "# method for publishing data\n",
    "def publish_message(producer_instance, topic_name, data):\n",
    "    try:\n",
    "        producer_instance.send(topic_name, value=data)\n",
    "        print('Message published successfully. Data: ' + str(data))\n",
    "    except Exception as ex:\n",
    "        print('Exception in publishing message.')\n",
    "        print(str(ex))\n",
    "\n",
    "# method for creating kafka connection\n",
    "def connect_kafka_producer():\n",
    "    _producer = None\n",
    "    try:\n",
    "        _producer = KafkaProducer(bootstrap_servers=['localhost:9092'],\n",
    "                                  value_serializer=lambda x: dumps(x).encode('ascii'),\n",
    "                                  api_version=(0, 10))\n",
    "    except Exception as ex:\n",
    "        print('Exception while connecting Kafka.')\n",
    "        print(str(ex))\n",
    "    finally:\n",
    "        return _producer\n",
    "    \n",
    "if __name__ == '__main__':\n",
    "    # read csv file\n",
    "    aqua_hotspot_streaming = pd.read_csv('hotspot_AQUA_streaming.csv')\n",
    "    # setup up topic\n",
    "    topic = 'StopFire'    \n",
    "    print('Publishing records..')\n",
    "    producer = connect_kafka_producer()\n",
    "    while True:\n",
    "        # set up a random feed interval between 10-30s and sender_id\n",
    "        random_time = random.randrange(10,30)\n",
    "        created_time = str(dt.datetime.now().strftime(\"%X\"))\n",
    "        sender_id = 'producer_2'  \n",
    "        \n",
    "        # append timestamp and sender_id to the randomlty selected records\n",
    "        dict_hotspot = aqua_hotspot_streaming.sample(1).to_dict('records')[0]\n",
    "        dict_hotspot.update({'created_time': created_time, 'sender_id': sender_id}) \n",
    "        publish_message(producer, topic, dict_hotspot)\n",
    "        \n",
    "        # feed the data to stream based on the random interval\n",
    "        sleep(random_time)"
   ]
  },
  {
   "cell_type": "code",
   "execution_count": null,
   "metadata": {},
   "outputs": [],
   "source": []
  }
 ],
 "metadata": {
  "kernelspec": {
   "display_name": "Python 3",
   "language": "python",
   "name": "python3"
  },
  "language_info": {
   "codemirror_mode": {
    "name": "ipython",
    "version": 3
   },
   "file_extension": ".py",
   "mimetype": "text/x-python",
   "name": "python",
   "nbconvert_exporter": "python",
   "pygments_lexer": "ipython3",
   "version": "3.5.2"
  }
 },
 "nbformat": 4,
 "nbformat_minor": 2
}
